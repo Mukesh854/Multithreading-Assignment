{
 "cells": [
  {
   "cell_type": "markdown",
   "id": "8fc2faa6-a153-40b5-8d7c-5f1324e6c658",
   "metadata": {},
   "source": [
    "# Multithreading Assignment-1"
   ]
  },
  {
   "cell_type": "markdown",
   "id": "45ce46a1-da3f-4928-858b-6ed0b1d84502",
   "metadata": {},
   "source": [
    "Q1. what is multithreading in python? why is it used? Name the module used to handle threads in python."
   ]
  },
  {
   "cell_type": "markdown",
   "id": "31885b03-47f0-4bdd-b49a-8168a0c2929c",
   "metadata": {},
   "source": [
    "\n",
    "Multithreading in Python allows programs to perform multiple tasks concurrently, enhancing performance and responsiveness, especially for I/O-bound operations. The threading module handles threads in Python, providing functions to create, control, and synchronize threads. However, due to the Global Interpreter Lock (GIL), multithreading may not significantly improve performance for CPU-bound tasks."
   ]
  },
  {
   "cell_type": "markdown",
   "id": "2820da4b-e228-4a67-a058-20db0cd5177c",
   "metadata": {},
   "source": [
    "Q2. why threading module used? write the use of the following functions\n",
    "1. activeCount()\n",
    "2. currentThread()\n",
    "3. enumerate()"
   ]
  },
  {
   "cell_type": "markdown",
   "id": "ebdf2069-026a-45aa-934e-b11d629b584c",
   "metadata": {},
   "source": [
    "\n",
    "The threading module in Python is used to manage threads.\n",
    "\n",
    ". activeCount(): Returns the number of active threads.\n",
    "\n",
    ". currentThread(): Returns the current thread object.\n",
    "\n",
    ". enumerate(): Returns a list of all active thread objects."
   ]
  },
  {
   "cell_type": "markdown",
   "id": "00869b6c-a21c-4b13-ba36-1f73fa93672b",
   "metadata": {},
   "source": [
    "Q3. Explain the following functions \n",
    "\n",
    "1. run\n",
    "2. start\n",
    "3. join\n",
    "4. isAlive)"
   ]
  },
  {
   "cell_type": "markdown",
   "id": "f7494b91-c197-4c81-96c6-9615b69cf883",
   "metadata": {},
   "source": [
    "run: Defines the code to be executed by the thread.\n",
    "\n",
    "start: Initiates the execution of the thread by invoking its run method.\n",
    "\n",
    "join: Blocks the calling thread until the specified thread completes execution.\n",
    "\n",
    "isAlive: Returns True if the thread is currently running, False otherwise.\n",
    "\n",
    "\n",
    "\n",
    "\n"
   ]
  },
  {
   "cell_type": "markdown",
   "id": "587bf745-31a4-485c-8788-c9fdb7d96df0",
   "metadata": {},
   "source": [
    "Q4. Write a python program to create two threads. Thread one must print the list of squares and thread\n",
    "two must print the list of cubes."
   ]
  },
  {
   "cell_type": "code",
   "execution_count": 1,
   "id": "491bad57-f130-4d48-8bd3-2151c5c8fd6f",
   "metadata": {},
   "outputs": [],
   "source": [
    "import threading"
   ]
  },
  {
   "cell_type": "code",
   "execution_count": 2,
   "id": "de4fd461-29ec-425e-a16c-7b5753b0b6ee",
   "metadata": {},
   "outputs": [],
   "source": [
    "def square():\n",
    "    squares = [i**2 for i in range(1 , 7)]\n",
    "    print(\"List of Squares :\" , squares)\n",
    "    \n",
    "def cube():\n",
    "    cubes = [i**3 for i in range(1,7)]\n",
    "    print(\"List of cubes :\" , cubes )"
   ]
  },
  {
   "cell_type": "code",
   "execution_count": 3,
   "id": "f62f3a22-dc6d-4556-85ee-6dd4afcbe807",
   "metadata": {},
   "outputs": [
    {
     "name": "stdout",
     "output_type": "stream",
     "text": [
      "List of Squares : [1, 4, 9, 16, 25, 36]\n"
     ]
    }
   ],
   "source": [
    "square()"
   ]
  },
  {
   "cell_type": "code",
   "execution_count": 4,
   "id": "80e36467-35e8-4428-a070-30a4e6ba2291",
   "metadata": {},
   "outputs": [
    {
     "name": "stdout",
     "output_type": "stream",
     "text": [
      "List of cubes : [1, 8, 27, 64, 125, 216]\n"
     ]
    }
   ],
   "source": [
    "cube()"
   ]
  },
  {
   "cell_type": "code",
   "execution_count": 5,
   "id": "36db1e3d-08aa-4546-985b-1c4f5a1f075a",
   "metadata": {},
   "outputs": [],
   "source": [
    "thread1 = threading.Thread(target=square)\n",
    "thread2 = threading.Thread(target=cube)"
   ]
  },
  {
   "cell_type": "code",
   "execution_count": 6,
   "id": "4cff888e-bb81-4850-b2cf-84d798f6f7ab",
   "metadata": {},
   "outputs": [
    {
     "name": "stdout",
     "output_type": "stream",
     "text": [
      "List of Squares : [1, 4, 9, 16, 25, 36]\n",
      "List of cubes : [1, 8, 27, 64, 125, 216]\n"
     ]
    }
   ],
   "source": [
    "thread1.start()\n",
    "thread2.start()"
   ]
  },
  {
   "cell_type": "code",
   "execution_count": 7,
   "id": "43eb9bce-2871-4bd6-89c5-d22f379156df",
   "metadata": {},
   "outputs": [
    {
     "name": "stdout",
     "output_type": "stream",
     "text": [
      "Main Thread Exiting\n"
     ]
    }
   ],
   "source": [
    "thread1.join()\n",
    "thread2.join()\n",
    "\n",
    "print(\"Main Thread Exiting\")"
   ]
  },
  {
   "cell_type": "markdown",
   "id": "e5468adb-b4be-46f9-b1d9-d3d040652658",
   "metadata": {},
   "source": [
    "Q5. State advantages and disadvantages of multithreading\n"
   ]
  },
  {
   "cell_type": "markdown",
   "id": "d85e070f-2778-4afa-882d-af2460635ead",
   "metadata": {},
   "source": [
    "Advantages:\n",
    "\n",
    ". Improved performance through concurrent execution.\n",
    "\n",
    ". Enhanced responsiveness, particularly in UI applications.\n",
    "\n",
    ". Efficient resource sharing within the same process.\n",
    "\n",
    "Disadvantages:\n",
    "\n",
    ". Complexity and synchronization challenges.\n",
    "\n",
    ". Increased difficulty in debugging due to non-deterministic behavior.\n",
    "\n",
    ". Potential for resource contention, leading to performance degradation."
   ]
  },
  {
   "cell_type": "markdown",
   "id": "8ccffcf5-1004-4dcb-925e-5d9c3f04a45e",
   "metadata": {},
   "source": [
    "Q6. Explain deadlocks and race conditions."
   ]
  },
  {
   "cell_type": "markdown",
   "id": "d5d54631-124b-49a6-b886-eae3fbb4414a",
   "metadata": {},
   "source": [
    "Deadlock:\n",
    "\n",
    ". Deadlock occurs when two or more processes or threads are waiting indefinitely for each other to release resources they need.\n",
    "\n",
    ". It leads to a situation where none of the processes or threads can proceed, effectively halting the system.\n",
    "\n",
    "Race Condition:\n",
    "\n",
    ". Race condition arises when the behavior of a program depends on the timing or sequence of uncontrollable events.\n",
    "\n",
    ". It occurs when two or more processes or threads access shared resources concurrently, and the outcome depends on the order of their execution.\n",
    "\n",
    ". It can lead to unpredictable or incorrect results."
   ]
  },
  {
   "cell_type": "markdown",
   "id": "14bd2b47-73fc-433c-a311-0292931be6ba",
   "metadata": {},
   "source": []
  }
 ],
 "metadata": {
  "kernelspec": {
   "display_name": "Python 3 (ipykernel)",
   "language": "python",
   "name": "python3"
  },
  "language_info": {
   "codemirror_mode": {
    "name": "ipython",
    "version": 3
   },
   "file_extension": ".py",
   "mimetype": "text/x-python",
   "name": "python",
   "nbconvert_exporter": "python",
   "pygments_lexer": "ipython3",
   "version": "3.10.8"
  }
 },
 "nbformat": 4,
 "nbformat_minor": 5
}
